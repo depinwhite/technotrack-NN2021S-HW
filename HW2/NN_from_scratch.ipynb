{
 "cells": [
  {
   "cell_type": "markdown",
   "metadata": {},
   "source": [
    "## Формулировка задачи и описание модели"
   ]
  },
  {
   "cell_type": "code",
   "execution_count": null,
   "metadata": {
    "ExecuteTime": {
     "start_time": "2021-05-06T20:16:36.386Z"
    }
   },
   "outputs": [],
   "source": [
    "import numpy as np\n",
    "from tqdm.notebook import tqdm\n",
    "import matplotlib.pyplot as plt\n",
    "import seaborn as sns"
   ]
  },
  {
   "cell_type": "code",
   "execution_count": 5,
   "metadata": {
    "ExecuteTime": {
     "end_time": "2021-04-07T15:32:05.664601Z",
     "start_time": "2021-04-07T15:32:05.661938Z"
    }
   },
   "outputs": [],
   "source": [
    "%matplotlib inline"
   ]
  },
  {
   "cell_type": "markdown",
   "metadata": {},
   "source": [
    "Перед нами стоит задача написания трехслойного перцептрона (с одним скрытым слоем) для классификации картинок размера 28x28 (рукописные цифры) из набора данных `MNIST`, который будет в качестве ответа выдавать число, которое изображено на картинке. \n",
    "Мы задаем многослойный перцептрон как сложную функцию, в которой используются линейные операции и поточечные нелинейные преобразования. Если входные данные (признаковое описание объекта) заданы вектором $x$, то функция перцептрона с одним скрытым слоем выглядит следующим образом:\n",
    "$$\n",
    "F(x) = \\Psi\\left(\\phi\\left( {x}\\cdot\\theta_1 + b_1 \\right)\\cdot\\theta_2 + b_2\\right),\n",
    "$$\n",
    "где $x$ имеется в виду без дополнительного единичного признака; $\\phi$ - функция активации скрытого слоя; $\\Psi$ - функция активации выходного слоя перцептрона.\n",
    "\n",
    "- в качестве функции активации $\\Psi$ мы будем использовать `softmax`:\n",
    "$$\n",
    "\\Psi(h_i) = \\frac{e^{h_i}}{\\sum_{j=1}^{K}{e^{h_j}}}\n",
    "$$\n",
    "- в качестве функции активации $\\phi$ мы будем использовать `ReLu`:\n",
    "$$\n",
    "\\phi(h_i) = \\max\\left(0, x\\right)\n",
    "$$"
   ]
  },
  {
   "cell_type": "markdown",
   "metadata": {},
   "source": [
    "## Формулирвока функции потерь, метода оптимизации и меры качества модели"
   ]
  },
  {
   "cell_type": "markdown",
   "metadata": {
    "ExecuteTime": {
     "end_time": "2021-04-06T18:58:10.600920Z",
     "start_time": "2021-04-06T18:58:10.581260Z"
    }
   },
   "source": [
    "- в качестве функции потерь мы будем использовать перекрестную энтропию в многоклассовом варианте (приведено в записи для одного объекта), так как целевая переменная имеет мультимиальное распределение:\n",
    "$$\n",
    "{\\mathscr{L}}\\left(\\hat{y},y\\right) = -\\sum_{j=1}^{K}{y_j*ln\\left(\\hat{y}_j\\right)}, \n",
    "$$\n",
    "где $\\hat{y}=F(x)$,\n",
    "${K}$ = 10 (количество цифр 0, .. ,9)\n",
    "\n",
    "Вычислять градиент функции потерь по параметрам мы будем с помощью back propagation (метод вычисления градиента, который используется при обновлении весов многослойного перцептрона), если объяснить в двух словах - это просто градиент сложной функции.\n",
    "\n",
    "В каждом нейроне мы можем посчитать производную выхода этого нейрона по входу этого нейрона. Таким образом, передавая значение производной к предыдущему нейрону, мы реализуем вычисление производной сложной функции, в конце получив значение градиента функции потерь по параметрам.\n",
    "\n",
    "$$\\frac{\\partial L(\\theta, x)}{\\partial \\theta_1} = \\frac{\\partial L(\\theta, x)}{\\partial \\hat{y}} \\frac{\\partial \\hat{y}}{\\partial \\theta_1} = \\frac{\\partial L(\\theta, x)}{\\partial \\hat{y}} \\frac{\\partial \\hat{y}}{\\partial Softmax} ...$$\n",
    "\n",
    "Обучаемыми параметрами сети являются все веса, с которыми суммируются входы всех нейронов. Будем обучать их методом стохастического градентного спуска.\n",
    "\n",
    "Стохастический градиентный спуск отличается от простого градиентного спуска тем, что мы разделяем выборку на batch'и и вычисляем градиент не на всей выборке, а лишь на ее части. Это работает в том случае, если выборка слишком большая (обычный градиентный спуск займет слишком много времени и памяти) и данные порождены каким-то одним распределением. В нашей задаче мы как раз-таки предполагаем, что данные порождены одним распределением и поэтому можно использовать для оценки градиента только часть данных.\n",
    "\n",
    "\n",
    "\n",
    "* Сформулируем меру качества модели (accuracy score). Так как у нас нет дисбаланса в распределении целевой переменной(увидим далее):\n",
    "$$\n",
    "score = \\frac{1}{N}\\sum_{i=1}^{N}{y_i}==\\hat{y_i}_k, \\text{    }{k} = argmax\\hat{y}\n",
    "$$"
   ]
  },
  {
   "cell_type": "markdown",
   "metadata": {},
   "source": [
    "## Формулировка признакового описания объектов, их преобразование и визуализация"
   ]
  },
  {
   "cell_type": "code",
   "execution_count": 6,
   "metadata": {
    "ExecuteTime": {
     "end_time": "2021-04-07T15:32:06.178059Z",
     "start_time": "2021-04-07T15:32:05.924259Z"
    }
   },
   "outputs": [],
   "source": [
    "mnist = np.load('./mnist.npz')\n",
    "X_train = mnist['x_train']\n",
    "y_train = mnist['y_train']\n",
    "X_test = mnist['x_test']\n",
    "y_test = mnist['y_test']"
   ]
  },
  {
   "cell_type": "markdown",
   "metadata": {},
   "source": [
    "Посмотрим на то, как выглядят наши данные, возьмем рандомную картинку"
   ]
  },
  {
   "cell_type": "code",
   "execution_count": 11,
   "metadata": {
    "ExecuteTime": {
     "end_time": "2021-04-07T15:33:22.658486Z",
     "start_time": "2021-04-07T15:33:22.514791Z"
    }
   },
   "outputs": [
    {
     "name": "stdout",
     "output_type": "stream",
     "text": [
      "8\n"
     ]
    },
    {
     "data": {
      "text/plain": [
       "array([[  0,   0,   0,   0,   0,   0,   0,   0,   0,   0,   0,   0,   0,\n",
       "          0,   0,   0,   0,   0,   0,   0,   0,   0,   0,   0,   0,   0,\n",
       "          0,   0],\n",
       "       [  0,   0,   0,   0,   0,   0,   0,   0,   0,   0,   0,   0,   0,\n",
       "          0,   0,   0,   0,   0,   0,   0,   0,   0,   0,   0,   0,   0,\n",
       "          0,   0],\n",
       "       [  0,   0,   0,   0,   0,   0,   0,   0,   0,   0,   0,   0,   0,\n",
       "          0,   0,   0,   0,   0,   0,   0,   0,   0,   0,   0,   0,   0,\n",
       "          0,   0],\n",
       "       [  0,   0,   0,   0,   0,   0,   0,   0,   0,   0,   0,   0,   0,\n",
       "          0,   0,   0,   0,   0,   0,   0,   0,   0,   0,   0,   0,   0,\n",
       "          0,   0],\n",
       "       [  0,   0,   0,   0,   0,   0,   0,   0,   0,  13,  94, 254, 254,\n",
       "        254, 208, 255, 236,  30,   0,   0,   0,   0,   0,   0,   0,   0,\n",
       "          0,   0],\n",
       "       [  0,   0,   0,   0,   0,   0,   0,   0,   0, 114, 253, 253, 253,\n",
       "        253, 253, 253, 253, 237,  68,   0,   0,   0,   0,   0,   0,   0,\n",
       "          0,   0],\n",
       "       [  0,   0,   0,   0,   0,   0,   0,   0, 133, 245, 253, 253, 253,\n",
       "        253, 253, 251, 251, 253, 200,  54,   0,   0,   0,   0,   0,   0,\n",
       "          0,   0],\n",
       "       [  0,   0,   0,   0,   0,   0,   0,   1, 169, 253, 253, 253, 253,\n",
       "        232, 140,  65,  62, 210, 245, 183,   0,   0,   0,   0,   0,   0,\n",
       "          0,   0],\n",
       "       [  0,   0,   0,   0,   0,   0,   0,   6, 253, 253, 253, 238,  90,\n",
       "         33,   0,   0,   0,   0, 206, 247,  61,   0,   0,   0,   0,   0,\n",
       "          0,   0],\n",
       "       [  0,   0,   0,   0,   0,   0,   0,   6, 249, 253, 253, 154,   0,\n",
       "          0,   0,   0,   0,   0, 206, 253,  81,   0,   0,   0,   0,   0,\n",
       "          0,   0],\n",
       "       [  0,   0,   0,   0,   0,   0,   0,   0, 151, 253, 247,  37,   0,\n",
       "          0,   0,   0,   0, 105, 235, 253,  81,   0,   0,   0,   0,   0,\n",
       "          0,   0],\n",
       "       [  0,   0,   0,   0,   0,   0,   0,   0, 151, 253, 243,   0,   0,\n",
       "        133, 195, 195, 103, 234, 253, 253,  81,   0,   0,   0,   0,   0,\n",
       "          0,   0],\n",
       "       [  0,   0,   0,   0,   0,   0,   0,   0, 151, 253, 248, 104, 183,\n",
       "        252, 253, 253, 253, 253, 253, 252,  76,   0,   0,   0,   0,   0,\n",
       "          0,   0],\n",
       "       [  0,   0,   0,   0,   0,   0,   0,   0,  64, 226, 253, 253, 253,\n",
       "        253, 253, 253, 253, 253, 253, 203,   0,   0,   0,   0,   0,   0,\n",
       "          0,   0],\n",
       "       [  0,   0,   0,   0,   0,   0,   0,   0, 129, 253, 253, 253, 253,\n",
       "        253, 253, 253, 253, 253, 253, 204,   0,   0,   0,   0,   0,   0,\n",
       "          0,   0],\n",
       "       [  0,   0,   0,   0,   0,   0,   0,   3, 204, 253, 253, 253, 253,\n",
       "        253, 253, 253, 252, 232, 249, 252, 177,   0,   0,   0,   0,   0,\n",
       "          0,   0],\n",
       "       [  0,   0,   0,   0,   0,   0,   0,   6, 253, 253, 246, 107, 194,\n",
       "        245, 232, 253, 160,   0, 180, 253, 231,  54,   0,   0,   0,   0,\n",
       "          0,   0],\n",
       "       [  0,   0,   0,   0,   0,   0,   0,   6, 253, 253, 201,   0,   0,\n",
       "         41,  31, 133,  30,   0,  98, 253, 253, 150,   0,   0,   0,   0,\n",
       "          0,   0],\n",
       "       [  0,   0,   0,   0,   0,   0,   0,   5, 243, 253, 238,   0,   0,\n",
       "          0,   0,   0,   0,   0,  15, 245, 253, 249,   5,   0,   0,   0,\n",
       "          0,   0],\n",
       "       [  0,   0,   0,   0,   0,   0,   0,   0, 151, 253, 245,  25,   0,\n",
       "          0,   0,   0,   6,  66, 184, 253, 253, 253,   5,   0,   0,   0,\n",
       "          0,   0],\n",
       "       [  0,   0,   0,   0,   0,   0,   0,   0, 108, 253, 253, 227, 128,\n",
       "         60, 104, 188, 215, 253, 253, 253, 253, 212,   3,   0,   0,   0,\n",
       "          0,   0],\n",
       "       [  0,   0,   0,   0,   0,   0,   0,   0,   1, 130, 253, 253, 253,\n",
       "        252, 253, 253, 253, 253, 253, 253, 253,  91,   0,   0,   0,   0,\n",
       "          0,   0],\n",
       "       [  0,   0,   0,   0,   0,   0,   0,   0,   0,  24, 175, 253, 253,\n",
       "        253, 253, 253, 253, 253, 253, 216, 110,  13,   0,   0,   0,   0,\n",
       "          0,   0],\n",
       "       [  0,   0,   0,   0,   0,   0,   0,   0,   0,   0,   2, 126, 253,\n",
       "        246, 168, 253, 151, 145,  58,  18,   0,   0,   0,   0,   0,   0,\n",
       "          0,   0],\n",
       "       [  0,   0,   0,   0,   0,   0,   0,   0,   0,   0,   0,   0,   0,\n",
       "          0,   0,   0,   0,   0,   0,   0,   0,   0,   0,   0,   0,   0,\n",
       "          0,   0],\n",
       "       [  0,   0,   0,   0,   0,   0,   0,   0,   0,   0,   0,   0,   0,\n",
       "          0,   0,   0,   0,   0,   0,   0,   0,   0,   0,   0,   0,   0,\n",
       "          0,   0],\n",
       "       [  0,   0,   0,   0,   0,   0,   0,   0,   0,   0,   0,   0,   0,\n",
       "          0,   0,   0,   0,   0,   0,   0,   0,   0,   0,   0,   0,   0,\n",
       "          0,   0],\n",
       "       [  0,   0,   0,   0,   0,   0,   0,   0,   0,   0,   0,   0,   0,\n",
       "          0,   0,   0,   0,   0,   0,   0,   0,   0,   0,   0,   0,   0,\n",
       "          0,   0]], dtype=uint8)"
      ]
     },
     "execution_count": 11,
     "metadata": {},
     "output_type": "execute_result"
    },
    {
     "data": {
      "image/png": "[encoded data removed]",
      "text/plain": [
       "<Figure size 432x288 with 1 Axes>"
      ]
     },
     "metadata": {
      "needs_background": "light"
     },
     "output_type": "display_data"
    }
   ],
   "source": [
    "random_number = np.random.randint(0, X_train.shape[0])\n",
    "plt.imshow(X_train[random_number])\n",
    "print(y_train[random_number])\n",
    "X_train[random_number]"
   ]
  },
  {
   "cell_type": "markdown",
   "metadata": {},
   "source": [
    "Распределение целевой переменной(количество каждой цифры). Как мы, видим таргет распределен равномерно, как раз отсюда следует, что метрика accuracy будет работать хорошо"
   ]
  },
  {
   "cell_type": "code",
   "execution_count": 5,
   "metadata": {
    "ExecuteTime": {
     "end_time": "2021-04-06T19:31:45.531995Z",
     "start_time": "2021-04-06T19:31:45.431626Z"
    }
   },
   "outputs": [
    {
     "name": "stderr",
     "output_type": "stream",
     "text": [
      "/Users/ildarhabutdinov/opt/anaconda3/lib/python3.8/site-packages/seaborn/_decorators.py:36: FutureWarning: Pass the following variable as a keyword arg: x. From version 0.12, the only valid positional argument will be `data`, and passing other arguments without an explicit keyword will result in an error or misinterpretation.\n",
      "  warnings.warn(\n"
     ]
    },
    {
     "data": {
      "text/plain": [
       "<AxesSubplot:ylabel='count'>"
      ]
     },
     "execution_count": 5,
     "metadata": {},
     "output_type": "execute_result"
    },
    {
     "data": {
      "image/png": "[encoded data removed]",
      "text/plain": [
       "<Figure size 432x288 with 1 Axes>"
      ]
     },
     "metadata": {
      "needs_background": "light"
     },
     "output_type": "display_data"
    }
   ],
   "source": [
    "sns.countplot(y_train)"
   ]
  },
  {
   "cell_type": "markdown",
   "metadata": {},
   "source": [
    "Посмотрим на размерность наших данных"
   ]
  },
  {
   "cell_type": "code",
   "execution_count": 6,
   "metadata": {
    "ExecuteTime": {
     "end_time": "2021-04-06T19:31:45.535776Z",
     "start_time": "2021-04-06T19:31:45.533264Z"
    }
   },
   "outputs": [
    {
     "name": "stdout",
     "output_type": "stream",
     "text": [
      "Размер X_train (60000, 28, 28)\n",
      "Размер y_train (60000,)\n",
      "Размер X_test (10000, 28, 28)\n",
      "Размер y_test (10000,)\n"
     ]
    }
   ],
   "source": [
    "print('Размер X_train', X_train.shape)\n",
    "print('Размер y_train', y_train.shape)\n",
    "print('Размер X_test', X_test.shape)\n",
    "print('Размер y_test', y_test.shape)"
   ]
  },
  {
   "cell_type": "markdown",
   "metadata": {},
   "source": [
    "  Так как наши признаки представлены в виде трехмерного тензора Nx28x28, то для работы с ними нам нужно преобразовать его в двумерный тензор \n",
    "Nx784, где N - количество объектов"
   ]
  },
  {
   "cell_type": "code",
   "execution_count": 7,
   "metadata": {
    "ExecuteTime": {
     "end_time": "2021-04-06T19:31:45.538674Z",
     "start_time": "2021-04-06T19:31:45.536863Z"
    }
   },
   "outputs": [],
   "source": [
    "# Reshape (60000, 28, 28) -> (60000, 10)\n",
    "X_train = X_train.reshape((X_train.shape[0], 784))\n",
    "X_test = X_test.reshape((X_test.shape[0], 784))"
   ]
  },
  {
   "cell_type": "markdown",
   "metadata": {
    "ExecuteTime": {
     "end_time": "2021-04-06T17:56:37.743135Z",
     "start_time": "2021-04-06T17:56:37.727285Z"
    }
   },
   "source": [
    "* Наши целевые значения мы закодируем с помощью one hot encoding'a и получим вектор, состоящий из 10 элементов - нулей и единиц. Единица стоит на месте, индекс которого является классом, к которому относится данный таргет, а предсказанием алгоритма является вектор из вероятнотстей принадлежности каждому клаассу. Эти самые вероятности мы получаем после действия функции активации `softmax`.\n",
    "* Наши признаки мы нормируем на отрезок [0,1], формула:\n",
    "$\n",
    "x = \\frac{x - x_{min}}{x_{max} - x_{min}}\n",
    "$"
   ]
  },
  {
   "cell_type": "code",
   "execution_count": 8,
   "metadata": {
    "ExecuteTime": {
     "end_time": "2021-04-06T19:31:45.546262Z",
     "start_time": "2021-04-06T19:31:45.541601Z"
    }
   },
   "outputs": [],
   "source": [
    "def Scaler(X):\n",
    "    \"\"\"\n",
    "    Нормализация признаков, воизбежание деления на ноль, используем очень маленькое значение epsilon\n",
    "    \"\"\"\n",
    "    epsilon = 1e-100\n",
    "    return (X - np.min(X, axis=0)) / (np.max(X, axis=0) - np.min(X, axis=0) +\n",
    "                                      epsilon)\n",
    "\n",
    "\n",
    "def OneHotEncoding(y):\n",
    "    \"\"\"\n",
    "    Кодируем таргеты с помощью one hot encoding\n",
    "    \"\"\"\n",
    "    assert len(y.shape) == 1\n",
    "\n",
    "    y_coded = np.zeros((y.shape[0], np.max(np.unique(y)) + 1))\n",
    "\n",
    "    for i in range(len(y)):\n",
    "        y_coded[i][y[i]] = 1\n",
    "    return y_coded\n",
    "\n",
    "\n",
    "def accuracy_score(y_true, y_pred):\n",
    "    \"\"\"\n",
    "    Размерность y_true (object_counts, 10)\n",
    "    Размерность y_pred (object_counts, 10)\n",
    "    \"\"\"\n",
    "    assert y_true.shape == y_pred.shape\n",
    "    acc = 0\n",
    "    for i in range(y_true.shape[0]):\n",
    "        if np.argmax(y_true[i]) == np.argmax(y_pred[i]):\n",
    "            acc += 1\n",
    "    return acc / y_pred.shape[0]"
   ]
  },
  {
   "cell_type": "code",
   "execution_count": 9,
   "metadata": {
    "ExecuteTime": {
     "end_time": "2021-04-06T19:31:45.950979Z",
     "start_time": "2021-04-06T19:31:45.548157Z"
    }
   },
   "outputs": [],
   "source": [
    "X_train_scaled = Scaler(X_train)\n",
    "X_test_scaled = Scaler(X_test)\n",
    "y_train_coded = OneHotEncoding(y_train)\n",
    "y_test_coded = OneHotEncoding(y_test)"
   ]
  },
  {
   "cell_type": "code",
   "execution_count": 10,
   "metadata": {
    "ExecuteTime": {
     "end_time": "2021-04-06T19:31:45.954339Z",
     "start_time": "2021-04-06T19:31:45.951933Z"
    }
   },
   "outputs": [],
   "source": [
    "class Differentiable:\n",
    "    def __init__(self):\n",
    "        pass\n",
    "\n",
    "    def forward(self, **kwargs):\n",
    "        raise NotImplementedError()\n",
    "\n",
    "    def backward(self, **kwargs):\n",
    "        raise NotImplementedError()"
   ]
  },
  {
   "cell_type": "code",
   "execution_count": 11,
   "metadata": {
    "ExecuteTime": {
     "end_time": "2021-04-06T19:31:45.958339Z",
     "start_time": "2021-04-06T19:31:45.955419Z"
    }
   },
   "outputs": [],
   "source": [
    "class loss(Differentiable):\n",
    "    def __init__(self):\n",
    "        super(loss, self).__init__()\n",
    "\n",
    "    def forward(self, y_true, y_pred):\n",
    "        \"\"\"\n",
    "        функция возвращает скаляр - значение loss'a\n",
    "        \"\"\"\n",
    "        self.cache = y_pred\n",
    "        loss_value = -np.mean(np.sum(y_true * np.log(y_pred), axis=1))\n",
    "        return loss_value\n",
    "\n",
    "    def backward(self, y_true, y_pred):\n",
    "        \"\"\"\n",
    "        размерность возвращаемого градиента: (batch_size, 10)\n",
    "        \"\"\"\n",
    "        partial_grad = -y_true / (self.cache)\n",
    "\n",
    "        return partial_grad"
   ]
  },
  {
   "cell_type": "code",
   "execution_count": 12,
   "metadata": {
    "ExecuteTime": {
     "end_time": "2021-04-06T19:31:45.963185Z",
     "start_time": "2021-04-06T19:31:45.959380Z"
    }
   },
   "outputs": [],
   "source": [
    "class Linear(Differentiable):\n",
    "    def __init__(self, in_features, out_features):\n",
    "        super(Linear, self).__init__()\n",
    "        \"\"\"\n",
    "        in_features: количество признаков на входе\n",
    "        out_features: количество признаков на выходе\n",
    "        \"\"\"\n",
    "        self.out_features = out_features\n",
    "        self.in_features = in_features\n",
    "        np.random.seed(42)\n",
    "        self.theta = np.random.randn(self.in_features,\n",
    "                                     self.out_features) * 0.001\n",
    "        self.bias = np.zeros(out_features)\n",
    "        self.cache = None\n",
    "\n",
    "    def forward(self, X):\n",
    "        \"\"\"\n",
    "        Под действием линейного преобразования должен происходить reshape (batch_size, in_features) -> (batch_size, out_features)\n",
    "        \"\"\"\n",
    "        assert X.ndim == 2, \"X should be 2-dimensional: (N of objects, n of features)\"\n",
    "        assert X.shape[1] == self.in_features\n",
    "        self.cache = X\n",
    "\n",
    "        y_pred = X @ self.theta + self.bias\n",
    "        return y_pred\n",
    "\n",
    "    def backward(self, upstream, lr):\n",
    "        \"\"\"\n",
    "        размерность возвращаемого градиента:\n",
    "        self.linear: (batch_size, 784)\n",
    "        self.linear_2: (batch_size, batch_size)\n",
    "        \"\"\"\n",
    "        self.dw = np.dot(self.cache.T, upstream)\n",
    "        self.dx = np.dot(upstream, self.theta.T)\n",
    "        self.db = upstream.sum(axis=0)\n",
    "\n",
    "        self.theta -= lr * self.dw\n",
    "        self.bias -= lr * self.db\n",
    "\n",
    "        return self.dx"
   ]
  },
  {
   "cell_type": "code",
   "execution_count": 13,
   "metadata": {
    "ExecuteTime": {
     "end_time": "2021-04-06T19:31:45.966756Z",
     "start_time": "2021-04-06T19:31:45.964176Z"
    }
   },
   "outputs": [],
   "source": [
    "class Activation(Differentiable):\n",
    "    def __init__(self):\n",
    "        super(Activation, self).__init__()\n",
    "        self.cache = None\n",
    "\n",
    "    def forward(self, X):\n",
    "        \"\"\"\n",
    "        Размерность не должна поменяться, то есть (batch_size, batch_size) -> (batch_size, batch_size)\n",
    "        \"\"\"\n",
    "        self.cache = X\n",
    "        y_pred = np.maximum(0, X)\n",
    "        assert y_pred.shape == X.shape\n",
    "        return y_pred\n",
    "\n",
    "    def backward(self, upstream):\n",
    "        \"\"\"\n",
    "        Размерность возвращаемого градиента: (batch_size, batch_size)\n",
    "        \"\"\"\n",
    "        upstream = np.multiply(upstream, self.cache > 0)\n",
    "        return upstream"
   ]
  },
  {
   "cell_type": "code",
   "execution_count": 14,
   "metadata": {
    "ExecuteTime": {
     "end_time": "2021-04-06T19:31:45.971602Z",
     "start_time": "2021-04-06T19:31:45.967693Z"
    }
   },
   "outputs": [],
   "source": [
    "class Softmax(Differentiable):\n",
    "    def __init__(self):\n",
    "        super(Softmax, self).__init__()\n",
    "        self.state = None\n",
    "\n",
    "    def forward(self, X):\n",
    "        \"\"\"\n",
    "        Не меняет размера матрицы, то есть остается (batch_size, 10) \n",
    "        \"\"\"\n",
    "        self.cache = X\n",
    "        z = X - np.max(X, axis=1, keepdims=True)\n",
    "        y_pred = np.exp(z) / np.sum(np.exp(z), axis=1, keepdims=True)\n",
    "        self.state = y_pred\n",
    "        return y_pred\n",
    "\n",
    "    @staticmethod\n",
    "    def jacobian(x):\n",
    "        '''\n",
    "        Возвращает якобиан Softmax'a, который выражается через сам Softmax.\n",
    "        '''\n",
    "        x = x.reshape(-1, 1)\n",
    "        return np.diagflat(x) - np.dot(x, x.T)\n",
    "\n",
    "    def backward(self, output_grad):\n",
    "        \"\"\"\n",
    "        размерность возвращаемого градиента: (batch_size, 10)\n",
    "        \"\"\"\n",
    "        output = self.state[:, np.newaxis]\n",
    "        jacob = np.squeeze(\n",
    "            np.apply_along_axis(Softmax.jacobian, axis=2, arr=output))\n",
    "        output_grad_tr = output_grad[:, np.newaxis]\n",
    "        self.input_grad = np.squeeze(output_grad_tr @ jacob)\n",
    "        return self.input_grad"
   ]
  },
  {
   "cell_type": "code",
   "execution_count": 15,
   "metadata": {
    "ExecuteTime": {
     "end_time": "2021-04-06T19:31:45.975833Z",
     "start_time": "2021-04-06T19:31:45.972586Z"
    }
   },
   "outputs": [],
   "source": [
    "class Perceptron(Differentiable):\n",
    "    def __init__(self):\n",
    "        super(Perceptron, self).__init__()\n",
    "        self.linear = Linear(784, 256)\n",
    "        self.activation = Activation()\n",
    "        self.linear_2 = Linear(256, 10)\n",
    "        self.softmax = Softmax()\n",
    "\n",
    "    def forward(self, X):\n",
    "        \"\"\"\n",
    "        Реализуем прямой проход\n",
    "        \"\"\"\n",
    "        y_pred = self.linear.forward(X)\n",
    "        y_pred = self.activation.forward(y_pred)\n",
    "        y_pred = self.linear_2.forward(y_pred)\n",
    "        y_pred = self.softmax.forward(y_pred)\n",
    "\n",
    "        return y_pred\n",
    "\n",
    "    def backward(self, upstream, lr):\n",
    "        \"\"\"\n",
    "        Реализуем обратный проход\n",
    "        upstream: градиент сложной функции\n",
    "        \"\"\"\n",
    "        upstream = self.softmax.backward(upstream)\n",
    "        upstream = self.linear_2.backward(upstream, lr)\n",
    "        upstream = self.activation.backward(upstream)\n",
    "        upstream = self.linear.backward(upstream, lr)\n",
    "        return upstream"
   ]
  },
  {
   "cell_type": "code",
   "execution_count": 16,
   "metadata": {
    "ExecuteTime": {
     "end_time": "2021-04-06T19:31:45.979375Z",
     "start_time": "2021-04-06T19:31:45.976725Z"
    }
   },
   "outputs": [],
   "source": [
    "def generate_batches(X, y, batch_size):\n",
    "    \"\"\"\n",
    "    Разделение данных на батчи\n",
    "    \"\"\"\n",
    "    assert len(X) == len(y)\n",
    "    np.random.seed(42)\n",
    "    X = np.array(X)\n",
    "    y = np.array(y)\n",
    "    perm = np.random.permutation(len(X))\n",
    "    amount_batches = len(perm) // batch_size\n",
    "\n",
    "    for i in range(amount_batches):\n",
    "        yield (X[perm[i * batch_size:(i + 1) * batch_size]],\n",
    "               y[perm[i * batch_size:(i + 1) * batch_size]])"
   ]
  },
  {
   "cell_type": "code",
   "execution_count": 19,
   "metadata": {
    "ExecuteTime": {
     "end_time": "2021-04-06T19:32:05.454475Z",
     "start_time": "2021-04-06T19:32:05.439350Z"
    }
   },
   "outputs": [],
   "source": [
    "def train_loop(X, y, X_test, y_test, model, loss_fn, epochs=100):\n",
    "    \"\"\"\n",
    "    Возвращает:\n",
    "    loss_history: эволюция лосса\n",
    "    best_model: модель с самым высоким score на тестовой выборке\n",
    "    \"\"\"\n",
    "    pbar = tqdm(total=epochs)\n",
    "    train_loss_history = []\n",
    "    test_loss_history = []\n",
    "    train_accuracy_history = []\n",
    "    test_accuracy_history = []\n",
    "    lr = 0.001\n",
    "    batch_size = 256\n",
    "    acc_train = []\n",
    "    best_model = None\n",
    "    current_accuracy = 0\n",
    "    for i in range(epochs):\n",
    "        for X_batch, y_batch in generate_batches(X, y, batch_size):\n",
    "            y_pred = model.forward(X_batch)\n",
    "            loss_value = loss_fn.forward(y_batch, y_pred)\n",
    "            upstream = loss_fn.backward(y_batch, y_pred)\n",
    "            grad = model.backward(upstream, lr)\n",
    "\n",
    "        train_loss_history.append(loss_fn.forward(y, model.forward(X)))\n",
    "        test_loss_history.append(loss_fn.forward(y_test,\n",
    "                                                 model.forward(X_test)))\n",
    "\n",
    "        train_accuracy = accuracy_score(y, model.forward(X))\n",
    "        test_accuracy = accuracy_score(y_test, model.forward(X_test))\n",
    "\n",
    "        train_accuracy_history.append(train_accuracy)\n",
    "        test_accuracy_history.append(test_accuracy)\n",
    "\n",
    "        #выбираем лучшую модель по ОБУЧАЮЩЕЙ ВЫБОРКЕ.\n",
    "        if train_accuracy > current_accuracy:\n",
    "            current_accuracy = train_accuracy\n",
    "            best_model = model\n",
    "\n",
    "        pbar.update(1)\n",
    "        pbar.set_postfix({\n",
    "            'train loss': train_loss_history[i],\n",
    "            'test loss': test_loss_history[i]\n",
    "        })\n",
    "\n",
    "        print(\"loss value on {} epoch. Train score : {}. Test score : {}.\".\n",
    "              format(i, train_accuracy, test_accuracy))\n",
    "    pbar.close()\n",
    "    return (train_loss_history, test_loss_history, train_accuracy_history,\n",
    "            test_accuracy_history, best_model)"
   ]
  },
  {
   "cell_type": "code",
   "execution_count": 20,
   "metadata": {
    "ExecuteTime": {
     "end_time": "2021-04-06T19:33:46.555850Z",
     "start_time": "2021-04-06T19:32:06.401071Z"
    }
   },
   "outputs": [
    {
     "data": {
      "application/vnd.jupyter.widget-view+json": {
       "model_id": "5280dcf113ee4fcdbae300f2c017d7e6",
       "version_major": 2,
       "version_minor": 0
      },
      "text/plain": [
       "HBox(children=(HTML(value=''), FloatProgress(value=0.0, max=30.0), HTML(value='')))"
      ]
     },
     "metadata": {},
     "output_type": "display_data"
    },
    {
     "name": "stdout",
     "output_type": "stream",
     "text": [
      "loss value on 0 epoch. Train score : 0.8996166666666666. Test score : 0.9004.\n",
      "loss value on 1 epoch. Train score : 0.9239. Test score : 0.9242.\n",
      "loss value on 2 epoch. Train score : 0.9389833333333333. Test score : 0.9384.\n",
      "loss value on 3 epoch. Train score : 0.9486166666666667. Test score : 0.9472.\n",
      "loss value on 4 epoch. Train score : 0.9555833333333333. Test score : 0.9535.\n",
      "loss value on 5 epoch. Train score : 0.9618166666666667. Test score : 0.9577.\n",
      "loss value on 6 epoch. Train score : 0.9666. Test score : 0.9612.\n",
      "loss value on 7 epoch. Train score : 0.9706333333333333. Test score : 0.9642.\n",
      "loss value on 8 epoch. Train score : 0.9738833333333333. Test score : 0.9675.\n",
      "loss value on 9 epoch. Train score : 0.9766166666666667. Test score : 0.9693.\n",
      "loss value on 10 epoch. Train score : 0.9786833333333333. Test score : 0.9708.\n",
      "loss value on 11 epoch. Train score : 0.9801833333333333. Test score : 0.972.\n",
      "loss value on 12 epoch. Train score : 0.9817166666666667. Test score : 0.9738.\n",
      "loss value on 13 epoch. Train score : 0.9829666666666667. Test score : 0.9751.\n",
      "loss value on 14 epoch. Train score : 0.9839333333333333. Test score : 0.9758.\n",
      "loss value on 15 epoch. Train score : 0.9850833333333333. Test score : 0.9767.\n",
      "loss value on 16 epoch. Train score : 0.9862333333333333. Test score : 0.9774.\n",
      "loss value on 17 epoch. Train score : 0.9872833333333333. Test score : 0.9774.\n",
      "loss value on 18 epoch. Train score : 0.9884333333333334. Test score : 0.9778.\n",
      "loss value on 19 epoch. Train score : 0.9891666666666666. Test score : 0.978.\n",
      "loss value on 20 epoch. Train score : 0.9901. Test score : 0.9784.\n",
      "loss value on 21 epoch. Train score : 0.99075. Test score : 0.9791.\n",
      "loss value on 22 epoch. Train score : 0.9913666666666666. Test score : 0.9793.\n",
      "loss value on 23 epoch. Train score : 0.9918833333333333. Test score : 0.9795.\n",
      "loss value on 24 epoch. Train score : 0.9924833333333334. Test score : 0.9794.\n",
      "loss value on 25 epoch. Train score : 0.9932. Test score : 0.9798.\n",
      "loss value on 26 epoch. Train score : 0.9937. Test score : 0.9798.\n",
      "loss value on 27 epoch. Train score : 0.9940666666666667. Test score : 0.9802.\n",
      "loss value on 28 epoch. Train score : 0.9947. Test score : 0.9799.\n",
      "loss value on 29 epoch. Train score : 0.9950666666666667. Test score : 0.9801.\n",
      "\n"
     ]
    }
   ],
   "source": [
    "obj_fn = loss()\n",
    "model = Perceptron()\n",
    "train_loss_history, test_loss_history, train_accuracy_history, test_accuracy_history, best_model = train_loop(\n",
    "    X_train_scaled,\n",
    "    y_train_coded,\n",
    "    X_test_scaled,\n",
    "    y_test_coded,\n",
    "    model,\n",
    "    obj_fn,\n",
    "    epochs=30)"
   ]
  },
  {
   "cell_type": "code",
   "execution_count": 21,
   "metadata": {
    "ExecuteTime": {
     "end_time": "2021-04-06T19:33:47.394998Z",
     "start_time": "2021-04-06T19:33:47.222016Z"
    }
   },
   "outputs": [
    {
     "data": {
      "text/plain": [
       "<matplotlib.legend.Legend at 0x7fceb8aff850>"
      ]
     },
     "execution_count": 21,
     "metadata": {},
     "output_type": "execute_result"
    },
    {
     "data": {
      "image/png": "[encoded data removed]",
      "text/plain": [
       "<Figure size 360x720 with 2 Axes>"
      ]
     },
     "metadata": {
      "needs_background": "light"
     },
     "output_type": "display_data"
    }
   ],
   "source": [
    "fig, axs = plt.subplots(nrows=2, figsize=(5, 10))\n",
    "\n",
    "axs[0].plot(train_loss_history, label='train loss')\n",
    "axs[0].plot(test_loss_history, label='test loss')\n",
    "axs[0].set_xlabel('Epochs')\n",
    "axs[0].set_ylabel('Loss value')\n",
    "axs[0].set_title('Evolution of loss function (Cross-Entropy Loss)')\n",
    "axs[0].legend()\n",
    "\n",
    "axs[1].plot(train_accuracy_history, label='train accuracy')\n",
    "axs[1].plot(test_accuracy_history, label='test accuracy')\n",
    "axs[1].set_xlabel('Epochs')\n",
    "axs[1].set_ylabel('Score')\n",
    "axs[1].set_title('Evolution of accuracy metric')\n",
    "axs[1].legend()"
   ]
  },
  {
   "cell_type": "markdown",
   "metadata": {},
   "source": [
    "## Оценка качества модели на валидационной выборке и сравнение со значениями оценки качества модели на обучающей выборке"
   ]
  },
  {
   "cell_type": "markdown",
   "metadata": {},
   "source": [
    "В best_model находится модель с параметрами, лучше всего показавшими себя на обучающей выборке по метрике accuracy. Протестируем ее на валидационной выборке. Наша модель обучалась исключительно за счет обучающей выборки, значения на валидационной выборке были вычислены лишь для сравнения оценок модели на этих двух выборках в процессе обучения."
   ]
  },
  {
   "cell_type": "code",
   "execution_count": 22,
   "metadata": {
    "ExecuteTime": {
     "end_time": "2021-04-06T19:33:48.375140Z",
     "start_time": "2021-04-06T19:33:48.028890Z"
    },
    "code_folding": []
   },
   "outputs": [],
   "source": [
    "#Применим нашу модель\n",
    "y_pred_train = best_model.forward(X_train_scaled)\n",
    "y_pred_test = best_model.forward(X_test_scaled)"
   ]
  },
  {
   "cell_type": "markdown",
   "metadata": {},
   "source": [
    "Значения функции потерь на обучающей и валидационной выборке одинаково низкие, что говорит нам о хорошем обучении."
   ]
  },
  {
   "cell_type": "code",
   "execution_count": 23,
   "metadata": {
    "ExecuteTime": {
     "end_time": "2021-04-06T19:33:49.095063Z",
     "start_time": "2021-04-06T19:33:49.086895Z"
    }
   },
   "outputs": [
    {
     "name": "stdout",
     "output_type": "stream",
     "text": [
      "loss of train:  0.024215944694159584  loss of test:  0.06626879700904294\n"
     ]
    }
   ],
   "source": [
    "train_loss = obj_fn.forward(y_train_coded, y_pred_train)\n",
    "test_loss = obj_fn.forward(y_test_coded, y_pred_test)\n",
    "print('loss of train: ', train_loss, ' loss of test: ', test_loss)"
   ]
  },
  {
   "cell_type": "markdown",
   "metadata": {},
   "source": [
    "Как мы можем заметить доля правильных ответов ~0.995 на тренировочной выборке и 0.9801 на тестовой. Я считаю это хорошим результатом, так как в 98% случаев наша модель верно классифицирует изображения."
   ]
  },
  {
   "cell_type": "code",
   "execution_count": 25,
   "metadata": {
    "ExecuteTime": {
     "end_time": "2021-04-06T19:33:50.850742Z",
     "start_time": "2021-04-06T19:33:50.644458Z"
    }
   },
   "outputs": [
    {
     "name": "stdout",
     "output_type": "stream",
     "text": [
      "train accuracy:  0.9950666666666667 \n",
      " test accuracy:  0.9801\n"
     ]
    }
   ],
   "source": [
    "train_accuracy = accuracy_score(y_train_coded, y_pred_train)\n",
    "test_accuracy = accuracy_score(y_test_coded, y_pred_test)\n",
    "print('train accuracy: ', train_accuracy, '\\n', 'test accuracy: ',\n",
    "      test_accuracy)"
   ]
  },
  {
   "cell_type": "markdown",
   "metadata": {},
   "source": [
    "## Выводы"
   ]
  },
  {
   "cell_type": "markdown",
   "metadata": {},
   "source": [
    "Целью работы было реализовать модель трехслойного перцептрона для классификации dataset'a MNIST методом обратного распространения для подсчета градиента функции потерь по весам и SGD для оптимизации весов.\n",
    "\n",
    "Как мы смогли заметить, наша модель показывает низкие значения функции потерь и высокую точность (~98%), и на тренировочной, и на тестовой выборке, что свидетельствует о качественном обучении модели и отсутствии переобучения/недообучения и наличии достаточного количества данных. Отсюда мы можем сделать вывод о том, мы справились с поставленной задачей.\n"
   ]
  },
  {
   "cell_type": "code",
   "execution_count": null,
   "metadata": {},
   "outputs": [],
   "source": []
  }
 ],
 "metadata": {
  "kernelspec": {
   "display_name": "Python 3",
   "language": "python",
   "name": "python3"
  },
  "language_info": {
   "codemirror_mode": {
    "name": "ipython",
    "version": 3
   },
   "file_extension": ".py",
   "mimetype": "text/x-python",
   "name": "python",
   "nbconvert_exporter": "python",
   "pygments_lexer": "ipython3",
   "version": "3.8.5"
  },
  "nbTranslate": {
   "displayLangs": [
    "*"
   ],
   "hotkey": "alt-t",
   "langInMainMenu": true,
   "sourceLang": "en",
   "targetLang": "fr",
   "useGoogleTranslate": true
  },
  "toc": {
   "base_numbering": 1,
   "nav_menu": {},
   "number_sections": true,
   "sideBar": true,
   "skip_h1_title": false,
   "title_cell": "Table of Contents",
   "title_sidebar": "Contents",
   "toc_cell": false,
   "toc_position": {},
   "toc_section_display": true,
   "toc_window_display": false
  },
  "varInspector": {
   "cols": {
    "lenName": 16,
    "lenType": 16,
    "lenVar": 40
   },
   "kernels_config": {
    "python": {
     "delete_cmd_postfix": "",
     "delete_cmd_prefix": "del ",
     "library": "var_list.py",
     "varRefreshCmd": "print(var_dic_list())"
    },
    "r": {
     "delete_cmd_postfix": ") ",
     "delete_cmd_prefix": "rm(",
     "library": "var_list.r",
     "varRefreshCmd": "cat(var_dic_list()) "
    }
   },
   "types_to_exclude": [
    "module",
    "function",
    "builtin_function_or_method",
    "instance",
    "_Feature"
   ],
   "window_display": false
  }
 },
 "nbformat": 4,
 "nbformat_minor": 4
}
