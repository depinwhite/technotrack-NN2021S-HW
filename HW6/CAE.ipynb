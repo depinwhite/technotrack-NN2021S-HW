{
 "cells": [
  {
   "cell_type": "code",
   "execution_count": 1,
   "metadata": {
    "colab": {
     "base_uri": "https://localhost:8080/"
    },
    "id": "vPFEbg5En4ci",
    "outputId": "c120fb29-d23a-44ee-9b7e-95f53874e9ca"
   },
   "outputs": [
    {
     "name": "stdout",
     "output_type": "stream",
     "text": [
      "--2021-05-15 11:07:00--  https://www.dropbox.com/s/r7mgjn83y9ygpzq/mnist_corrupted.npz\n",
      "Resolving www.dropbox.com (www.dropbox.com)... 162.125.6.18, 2620:100:601c:18::a27d:612\n",
      "Connecting to www.dropbox.com (www.dropbox.com)|162.125.6.18|:443... connected.\n",
      "HTTP request sent, awaiting response... 301 Moved Permanently\n",
      "Location: /s/raw/r7mgjn83y9ygpzq/mnist_corrupted.npz [following]\n",
      "--2021-05-15 11:07:00--  https://www.dropbox.com/s/raw/r7mgjn83y9ygpzq/mnist_corrupted.npz\n",
      "Reusing existing connection to www.dropbox.com:443.\n",
      "HTTP request sent, awaiting response... 302 Found\n",
      "Location: https://ucdfc7bb89e569965a599e7e508a.dl.dropboxusercontent.com/cd/0/inline/BOieNcXd9hLfYXFPVN73W9myQ_NytPd4hw3isOdg8CzgtfX4aMYPeBjwB4CMD8TNhgtVeFA_NWGANn2Q29EPM_jKiKGamfC7uMArpDwfaXzec3GD_-Bk2bN2xPrdGa1pAVTSnZjVCX3kdBp4FhJss9L8/file# [following]\n",
      "--2021-05-15 11:07:00--  https://ucdfc7bb89e569965a599e7e508a.dl.dropboxusercontent.com/cd/0/inline/BOieNcXd9hLfYXFPVN73W9myQ_NytPd4hw3isOdg8CzgtfX4aMYPeBjwB4CMD8TNhgtVeFA_NWGANn2Q29EPM_jKiKGamfC7uMArpDwfaXzec3GD_-Bk2bN2xPrdGa1pAVTSnZjVCX3kdBp4FhJss9L8/file\n",
      "Resolving ucdfc7bb89e569965a599e7e508a.dl.dropboxusercontent.com (ucdfc7bb89e569965a599e7e508a.dl.dropboxusercontent.com)... 162.125.6.15, 2620:100:6019:15::a27d:40f\n",
      "Connecting to ucdfc7bb89e569965a599e7e508a.dl.dropboxusercontent.com (ucdfc7bb89e569965a599e7e508a.dl.dropboxusercontent.com)|162.125.6.15|:443... connected.\n",
      "HTTP request sent, awaiting response... 302 Found\n",
      "Location: /cd/0/inline2/BOjcEOYYOrpVSqrZTfquCLVq6_cnPVw0gVfa4Jw_4I1__1VHrsmLyGKNBgXAJLVJ_YSoAwIzlgYPLWSu_6y42szuJuvVrBSL0J2fPNkwanQM6K8beROV8-8QLPetMCIfgGutlEQuOkqAGTJq_tw1x2Ae50cIZ-bzNjdCR3vt62gwvMbNDwlZzc3fi_OQCpvNtTnxbNtquOFtRvpW3drOL-e2BYLBAdb8YPH5koE0_nPUu32Xzj-Skg0IKgDq3gsOVS7giXbpHwRRNVD6aJ8bgKWZLdXcFsnZLUxuR66FLpn3QmBRbP3Ei3SER2v_IJpB_KBJsDcLnvfWPOTfYbxzicNUiZSp5qefgd0_M5rA2SCY6ia7zHMON24Sur3pp1TUxpY/file [following]\n",
      "--2021-05-15 11:07:00--  https://ucdfc7bb89e569965a599e7e508a.dl.dropboxusercontent.com/cd/0/inline2/BOjcEOYYOrpVSqrZTfquCLVq6_cnPVw0gVfa4Jw_4I1__1VHrsmLyGKNBgXAJLVJ_YSoAwIzlgYPLWSu_6y42szuJuvVrBSL0J2fPNkwanQM6K8beROV8-8QLPetMCIfgGutlEQuOkqAGTJq_tw1x2Ae50cIZ-bzNjdCR3vt62gwvMbNDwlZzc3fi_OQCpvNtTnxbNtquOFtRvpW3drOL-e2BYLBAdb8YPH5koE0_nPUu32Xzj-Skg0IKgDq3gsOVS7giXbpHwRRNVD6aJ8bgKWZLdXcFsnZLUxuR66FLpn3QmBRbP3Ei3SER2v_IJpB_KBJsDcLnvfWPOTfYbxzicNUiZSp5qefgd0_M5rA2SCY6ia7zHMON24Sur3pp1TUxpY/file\n",
      "Reusing existing connection to ucdfc7bb89e569965a599e7e508a.dl.dropboxusercontent.com:443.\n",
      "HTTP request sent, awaiting response... 200 OK\n",
      "Length: 54880512 (52M) [application/octet-stream]\n",
      "Saving to: ‘/content/gdrive/My Drive/mnist_corrupted.npz’\n",
      "\n",
      "mnist_corrupted.npz 100%[===================>]  52.34M   138MB/s    in 0.4s    \n",
      "\n",
      "2021-05-15 11:07:01 (138 MB/s) - ‘/content/gdrive/My Drive/mnist_corrupted.npz’ saved [54880512/54880512]\n",
      "\n"
     ]
    }
   ],
   "source": [
    "!wget -P /content/gdrive/My\\ Drive https://www.dropbox.com/s/r7mgjn83y9ygpzq/mnist_corrupted.npz"
   ]
  },
  {
   "cell_type": "code",
   "execution_count": 2,
   "metadata": {
    "id": "bEWPc00JwL9_"
   },
   "outputs": [],
   "source": [
    "import torch\n",
    "import torchvision\n",
    "import numpy as np\n",
    "import matplotlib.pyplot as plt\n",
    "import torch.nn as nn\n",
    "import torch.nn.functional as F\n",
    "from torch.utils.data import Dataset, DataLoader\n",
    "from tqdm import tqdm\n",
    "from PIL import Image\n",
    "\n",
    "from typing import Tuple, List, Type, Dict, Any"
   ]
  },
  {
   "cell_type": "code",
   "execution_count": 3,
   "metadata": {
    "id": "iVmS1wwtn6X1"
   },
   "outputs": [],
   "source": [
    "device = torch.device(\"cuda\" if torch.cuda.is_available() else \"cpu\")"
   ]
  },
  {
   "cell_type": "markdown",
   "metadata": {
    "id": "ey-W67J2uWAA"
   },
   "source": [
    "# Свёрточный автокодировщик (convolutional autoencoder, CAE)"
   ]
  },
  {
   "cell_type": "code",
   "execution_count": 4,
   "metadata": {
    "id": "DH1Ft05dn6a_"
   },
   "outputs": [],
   "source": [
    "class DS(Dataset):\n",
    "    def __init__(self, data, transform=None):\n",
    "        self.data = data\n",
    "        self.transform = transform\n",
    "\n",
    "    def __getitem__(self, index):\n",
    "        x = self.data[index]\n",
    "\n",
    "        if self.transform:\n",
    "            x = Image.fromarray(x.astype(np.uint8))\n",
    "            x = self.transform(x)\n",
    "\n",
    "        return x\n",
    "\n",
    "    def __len__(self):\n",
    "        return len(self.data)"
   ]
  },
  {
   "cell_type": "markdown",
   "metadata": {
    "id": "t8iiUPJSoHuE"
   },
   "source": [
    "### Напишем пайплайн для предобработки и аугментации данных"
   ]
  },
  {
   "cell_type": "code",
   "execution_count": 5,
   "metadata": {
    "id": "0v349F6UoBgD"
   },
   "outputs": [],
   "source": [
    "train_transforms = torchvision.transforms.Compose([\n",
    "    torchvision.transforms.ToTensor(),\n",
    "    #Эти числа - среднее и стандартное отклонение набора данных MNIST .\n",
    "    torchvision.transforms.Normalize((0.1307, ), (0.3081, )),\n",
    "    torchvision.transforms.RandomResizedCrop(size=(28, 28),\n",
    "                                             scale=(.5, 1.0),\n",
    "                                             ratio=(.8, 1.25)),\n",
    "    torchvision.transforms.RandomRotation(degrees=30)\n",
    "])\n",
    "\n",
    "val_transforms = torchvision.transforms.Compose([\n",
    "    torchvision.transforms.ToTensor(),\n",
    "    torchvision.transforms.Normalize((0.1307, ), (0.3081, ))\n",
    "])"
   ]
  },
  {
   "cell_type": "code",
   "execution_count": 6,
   "metadata": {
    "id": "UjH-P6uuoLgq"
   },
   "outputs": [],
   "source": [
    "mnist = np.load('/content/gdrive/My Drive/mnist_corrupted.npz')\n",
    "mnist_train_samples = mnist['x_train']\n",
    "mnist_test_samples = mnist['x_test']\n",
    "train_dataset = DS(mnist_train_samples, train_transforms)\n",
    "val_dataset = DS(mnist_test_samples, val_transforms)"
   ]
  },
  {
   "cell_type": "markdown",
   "metadata": {
    "id": "v1kQhwJvoWLF"
   },
   "source": [
    "### Отобразим несколько произвольных примеров обучающей выборки."
   ]
  },
  {
   "cell_type": "code",
   "execution_count": 7,
   "metadata": {
    "colab": {
     "base_uri": "https://localhost:8080/",
     "height": 98
    },
    "id": "-ujNdU_8oOsM",
    "outputId": "004b8160-eeff-460e-a365-dbe477a38058"
   },
   "outputs": [
    {
     "data": {
      "image/png": "[encoded data removed]",
      "text/plain": [
       "<Figure size 2400x600 with 8 Axes>"
      ]
     },
     "metadata": {
      "tags": []
     },
     "output_type": "display_data"
    }
   ],
   "source": [
    "indices = np.random.randint(0, len(train_dataset), size=8)\n",
    "\n",
    "fig, axes = plt.subplots(nrows=1, ncols=8, figsize=(8, 2), dpi=300)\n",
    "for i, ax in enumerate(axes):\n",
    "    sample_index = indices[i]\n",
    "    sample = train_dataset[sample_index]\n",
    "    ax.imshow(np.squeeze(sample.cpu().numpy()), cmap='gray')\n",
    "    ax.set_xticks([])\n",
    "    ax.set_yticks([])\n",
    "plt.tight_layout()\n",
    "fig.patch.set_facecolor('white')"
   ]
  },
  {
   "cell_type": "markdown",
   "metadata": {
    "id": "mcebOYKfohHP"
   },
   "source": [
    "### Опишем класс нейросети-автокодировщика, описываемой в этом задании."
   ]
  },
  {
   "cell_type": "code",
   "execution_count": 26,
   "metadata": {
    "id": "xzdQ6yUUogFR"
   },
   "outputs": [],
   "source": [
    "class ConvAutoencoder(nn.Module):\n",
    "    def __init__(self, hidden_dim = 16):\n",
    "        super(ConvAutoencoder, self).__init__()\n",
    "\n",
    "        self.conv1 = nn.Conv2d(1, 16, 3, padding=1, stride=2)  \n",
    "        self.conv2 = nn.Conv2d(16, 4, 3, padding=1, stride=2)\n",
    "\n",
    "        self.l1 = nn.Linear(196, hidden_dim)\n",
    "\n",
    "        self.l2 = nn.Linear(hidden_dim, 196)\n",
    "\n",
    "        \n",
    "        self.t_conv1 = nn.ConvTranspose2d(4, 16, 3, padding=1, stride=1)\n",
    "\n",
    "        self.t_conv2 = nn.ConvTranspose2d(16, 1, 3, padding=1, stride=1)\n",
    "        \n",
    "\n",
    "    def forward(self, x):\n",
    "        x = F.relu(self.conv1(x))\n",
    "        x = F.relu(self.conv2(x))\n",
    "        x_shape = x.shape\n",
    "\n",
    "\n",
    "        x = x.view((-1, np.product(x.shape[1:])))\n",
    "        x = F.relu(self.l1(x))\n",
    "\n",
    "        x = F.relu(self.l2(x))\n",
    "        x = x.view([-1] + list(x_shape[1:]))\n",
    "        x = F.upsample(x, scale_factor=(2, 2), mode='bilinear')\n",
    "        x = F.relu(self.t_conv1(x))\n",
    "        x = F.upsample(x, scale_factor=(2, 2), mode='bilinear')\n",
    "        x = F.sigmoid(self.t_conv2(x))\n",
    "        return x"
   ]
  },
  {
   "cell_type": "code",
   "execution_count": 27,
   "metadata": {
    "colab": {
     "base_uri": "https://localhost:8080/"
    },
    "id": "uuta76oFpKmS",
    "outputId": "8ecb9ed5-1445-48d4-b3a1-e05d053fe5dd"
   },
   "outputs": [
    {
     "name": "stdout",
     "output_type": "stream",
     "text": [
      "ConvAutoencoder(\n",
      "  (conv1): Conv2d(1, 16, kernel_size=(3, 3), stride=(2, 2), padding=(1, 1))\n",
      "  (conv2): Conv2d(16, 4, kernel_size=(3, 3), stride=(2, 2), padding=(1, 1))\n",
      "  (l1): Linear(in_features=196, out_features=16, bias=True)\n",
      "  (l2): Linear(in_features=16, out_features=196, bias=True)\n",
      "  (t_conv1): ConvTranspose2d(4, 16, kernel_size=(3, 3), stride=(1, 1), padding=(1, 1))\n",
      "  (t_conv2): ConvTranspose2d(16, 1, kernel_size=(3, 3), stride=(1, 1), padding=(1, 1))\n",
      ")\n"
     ]
    }
   ],
   "source": [
    "model = ConvAutoencoder()\n",
    "print(model)"
   ]
  },
  {
   "cell_type": "code",
   "execution_count": 28,
   "metadata": {
    "id": "Ec2jT4p1pOa0"
   },
   "outputs": [],
   "source": [
    "model = model.to(device)"
   ]
  },
  {
   "cell_type": "markdown",
   "metadata": {
    "id": "MQRsnzhu0DIF"
   },
   "source": [
    "### Отобразим один произвольный пример обучающей выборки и результат вычисления нейросети на этом примере."
   ]
  },
  {
   "cell_type": "code",
   "execution_count": 19,
   "metadata": {
    "colab": {
     "base_uri": "https://localhost:8080/",
     "height": 404
    },
    "id": "im5zn0KXpPu5",
    "outputId": "941c06ae-6b5c-4a7f-a4e5-d8bc2cd9314d"
   },
   "outputs": [
    {
     "name": "stderr",
     "output_type": "stream",
     "text": [
      "/usr/local/lib/python3.7/dist-packages/torch/nn/functional.py:3328: UserWarning: nn.functional.upsample is deprecated. Use nn.functional.interpolate instead.\n",
      "  warnings.warn(\"nn.functional.upsample is deprecated. Use nn.functional.interpolate instead.\")\n",
      "/usr/local/lib/python3.7/dist-packages/torch/nn/functional.py:3458: UserWarning: Default upsampling behavior when mode=bilinear is changed to align_corners=False since 0.4.0. Please specify align_corners=True if the old behavior is desired. See the documentation of nn.Upsample for details.\n",
      "  \"See the documentation of nn.Upsample for details.\".format(mode)\n",
      "/usr/local/lib/python3.7/dist-packages/torch/nn/functional.py:1709: UserWarning: nn.functional.sigmoid is deprecated. Use torch.sigmoid instead.\n",
      "  warnings.warn(\"nn.functional.sigmoid is deprecated. Use torch.sigmoid instead.\")\n"
     ]
    },
    {
     "data": {
      "text/plain": [
       "<matplotlib.image.AxesImage at 0x7f58350db410>"
      ]
     },
     "execution_count": 19,
     "metadata": {
      "tags": []
     },
     "output_type": "execute_result"
    },
    {
     "data": {
      "image/png": "[encoded data removed]",
      "text/plain": [
       "<Figure size 432x288 with 1 Axes>"
      ]
     },
     "metadata": {
      "needs_background": "light",
      "tags": []
     },
     "output_type": "display_data"
    }
   ],
   "source": [
    "index = int(np.random.randint(0, len(train_dataset), size=1))\n",
    "sample = train_dataset[index][0]\n",
    "sample_np = np.squeeze(sample.detach().cpu().numpy())\n",
    "sample_ae = model(sample.view(1, 1, 28, 28).to(device))\n",
    "sample_ae_np = np.squeeze(sample_ae.detach().cpu().numpy())\n",
    "plt.imshow(sample_ae_np)"
   ]
  },
  {
   "cell_type": "markdown",
   "metadata": {
    "id": "ekmPpa4_s9_5"
   },
   "source": [
    "### Теперь, когда мы реализовали модель и подготовили данные, можно приступить к непосредственному обучению модели."
   ]
  },
  {
   "cell_type": "code",
   "execution_count": 20,
   "metadata": {
    "id": "UZ-e7iEFs8n8"
   },
   "outputs": [],
   "source": [
    "def train_model(model: torch.nn.Module, \n",
    "                train_dataset: torch.utils.data.Dataset,\n",
    "                val_dataset: torch.utils.data.Dataset,\n",
    "                loss_function: torch.nn.Module = torch.nn.CrossEntropyLoss(),\n",
    "                initial_lr = 0.01,\n",
    "                optimizer_class: Type[torch.optim.Optimizer] = torch.optim.Adam,\n",
    "                optimizer_params: Dict = {},\n",
    "                lr_scheduler_class: Any = torch.optim.lr_scheduler.ExponentialLR,\n",
    "                lr_scheduler_params: Dict = {},\n",
    "                batch_size = 64,\n",
    "                max_epochs = 100,\n",
    "                early_stopping_patience = 10,\n",
    "):\n",
    "    optimizer = optimizer_class(model.parameters(), **optimizer_params)\n",
    "    lr_scheduler = lr_scheduler_class(optimizer, gamma=0.01, **lr_scheduler_params)\n",
    "    \n",
    "    train_loader = torch.utils.data.DataLoader(train_dataset, shuffle=True, batch_size=batch_size)\n",
    "    val_loader = torch.utils.data.DataLoader(val_dataset, batch_size=batch_size)\n",
    "\n",
    "    best_val_loss = None\n",
    "    best_epoch = None\n",
    "    \n",
    "    for epoch in range(max_epochs):\n",
    "        print(f'Epoch {epoch+1} of {max_epochs}')\n",
    "        train_single_epoch(model, optimizer, loss_function, train_loader)\n",
    "        val_metrics = validate_single_epoch(model, loss_function, val_loader)\n",
    "        print(f'Validation metrics: \\n{val_metrics}')\n",
    "\n",
    "        lr_scheduler.step(val_metrics['loss'])\n",
    "        \n",
    "        if best_val_loss is None or best_val_loss > val_metrics['loss']:\n",
    "            print(f'Best model yet, saving')\n",
    "            best_val_loss = val_metrics['loss']\n",
    "            best_epoch = epoch\n",
    "#             torch.save(model, './best_model.pth')\n",
    "            \n",
    "        if epoch - best_epoch > early_stopping_patience:\n",
    "            print('Early stopping triggered')\n",
    "            return"
   ]
  },
  {
   "cell_type": "markdown",
   "metadata": {
    "id": "PBy9Tjxbr7t5"
   },
   "source": [
    "### Реализуем функцию, производящую обучение сети на протяжении одной эпохи (полного прохода по всей обучающей выборке). На вход будет приходить модель, оптимизатор, функция потерь и объект типа DataLoader."
   ]
  },
  {
   "cell_type": "code",
   "execution_count": 21,
   "metadata": {
    "id": "zyHrhBfPpSYn"
   },
   "outputs": [],
   "source": [
    "def train_single_epoch(model: torch.nn.Module,\n",
    "                       optimizer: torch.optim.Optimizer, \n",
    "                       loss_function: torch.nn.Module, \n",
    "                       data_loader: torch.utils.data.DataLoader):\n",
    "    \n",
    "    model.train()\n",
    "    loss_fn = loss_function()\n",
    "\n",
    "    for image in data_loader:\n",
    "        optimizer.zero_grad()\n",
    "        image = image.to(device)\n",
    "        image_ = model(image)\n",
    "        loss = loss_fn(image_, image)\n",
    "        loss.backward()\n",
    "        optimizer.step()"
   ]
  },
  {
   "cell_type": "markdown",
   "metadata": {
    "id": "aC7SsuKZsOox"
   },
   "source": [
    "### Реализуем функцию производящую расчёт функции потерь на тестовой выборке. На вход будет приходить модель, функция потерь и DataLoader. "
   ]
  },
  {
   "cell_type": "code",
   "execution_count": 22,
   "metadata": {
    "id": "tAkW9vbesP_B"
   },
   "outputs": [],
   "source": [
    "def validate_single_epoch(model: torch.nn.Module,\n",
    "                          loss_function: torch.nn.Module, \n",
    "                          data_loader: torch.utils.data.DataLoader):\n",
    "    model.eval()\n",
    "    test_loss = 0.0\n",
    "    loss_fn = loss_function()\n",
    "\n",
    "    for image in data_loader:\n",
    "        image = image.to(device)\n",
    "        with torch.no_grad():\n",
    "            image_ = model(image)\n",
    "        test_loss += loss_fn(image_, image).item()\n",
    "    \n",
    "    return {\n",
    "        'loss': test_loss / len(data_loader.dataset)\n",
    "    }"
   ]
  },
  {
   "cell_type": "markdown",
   "metadata": {
    "id": "kDP8nPycufsF"
   },
   "source": [
    "У нас нет поворотов, поэтому нам нужно просто восстановить вход попиксельно. Мы хотим, чтобы у нас получилось идентичное преобразование. Идентичное преобразование тем ближе, чем ближе MSE. Поэтому в качестве функции потерь подойдет MSE. "
   ]
  },
  {
   "cell_type": "code",
   "execution_count": 29,
   "metadata": {
    "colab": {
     "base_uri": "https://localhost:8080/"
    },
    "id": "BIXGtGoMslk4",
    "outputId": "a4e589e7-0bca-485a-c624-24b1a7b38116"
   },
   "outputs": [
    {
     "name": "stdout",
     "output_type": "stream",
     "text": [
      "Epoch 1 of 20\n"
     ]
    },
    {
     "name": "stderr",
     "output_type": "stream",
     "text": [
      "/usr/local/lib/python3.7/dist-packages/torch/nn/functional.py:3328: UserWarning: nn.functional.upsample is deprecated. Use nn.functional.interpolate instead.\n",
      "  warnings.warn(\"nn.functional.upsample is deprecated. Use nn.functional.interpolate instead.\")\n",
      "/usr/local/lib/python3.7/dist-packages/torch/nn/functional.py:3458: UserWarning: Default upsampling behavior when mode=bilinear is changed to align_corners=False since 0.4.0. Please specify align_corners=True if the old behavior is desired. See the documentation of nn.Upsample for details.\n",
      "  \"See the documentation of nn.Upsample for details.\".format(mode)\n",
      "/usr/local/lib/python3.7/dist-packages/torch/nn/functional.py:1709: UserWarning: nn.functional.sigmoid is deprecated. Use torch.sigmoid instead.\n",
      "  warnings.warn(\"nn.functional.sigmoid is deprecated. Use torch.sigmoid instead.\")\n"
     ]
    },
    {
     "name": "stdout",
     "output_type": "stream",
     "text": [
      "Validation metrics: \n",
      "{'loss': 0.010019921863079071}\n",
      "Best model yet, saving\n",
      "Epoch 2 of 20\n"
     ]
    },
    {
     "name": "stderr",
     "output_type": "stream",
     "text": [
      "/usr/local/lib/python3.7/dist-packages/torch/optim/lr_scheduler.py:154: UserWarning: The epoch parameter in `scheduler.step()` was not necessary and is being deprecated where possible. Please use `scheduler.step()` to step the scheduler. During the deprecation, if epoch is different from None, the closed form is used instead of the new chainable form, where available. Please open an issue if you are unable to replicate your use case: https://github.com/pytorch/pytorch/issues/new/choose.\n",
      "  warnings.warn(EPOCH_DEPRECATION_WARNING, UserWarning)\n"
     ]
    },
    {
     "name": "stdout",
     "output_type": "stream",
     "text": [
      "Validation metrics: \n",
      "{'loss': 0.009713391786813736}\n",
      "Best model yet, saving\n",
      "Epoch 3 of 20\n",
      "Validation metrics: \n",
      "{'loss': 0.009549631649255753}\n",
      "Best model yet, saving\n",
      "Epoch 4 of 20\n",
      "Validation metrics: \n",
      "{'loss': 0.009450370889902115}\n",
      "Best model yet, saving\n",
      "Epoch 5 of 20\n",
      "Validation metrics: \n",
      "{'loss': 0.009449287116527557}\n",
      "Best model yet, saving\n",
      "Epoch 6 of 20\n",
      "Validation metrics: \n",
      "{'loss': 0.00932703250348568}\n",
      "Best model yet, saving\n",
      "Epoch 7 of 20\n",
      "Validation metrics: \n",
      "{'loss': 0.009288324147462845}\n",
      "Best model yet, saving\n",
      "Epoch 8 of 20\n",
      "Validation metrics: \n",
      "{'loss': 0.009267886513471603}\n",
      "Best model yet, saving\n",
      "Epoch 9 of 20\n",
      "Validation metrics: \n",
      "{'loss': 0.009279592287540436}\n",
      "Epoch 10 of 20\n",
      "Validation metrics: \n",
      "{'loss': 0.009228239819407463}\n",
      "Best model yet, saving\n",
      "Epoch 11 of 20\n",
      "Validation metrics: \n",
      "{'loss': 0.00918772310912609}\n",
      "Best model yet, saving\n",
      "Epoch 12 of 20\n",
      "Validation metrics: \n",
      "{'loss': 0.009165969780087472}\n",
      "Best model yet, saving\n",
      "Epoch 13 of 20\n",
      "Validation metrics: \n",
      "{'loss': 0.009105321797728539}\n",
      "Best model yet, saving\n",
      "Epoch 14 of 20\n",
      "Validation metrics: \n",
      "{'loss': 0.009134974300861359}\n",
      "Epoch 15 of 20\n",
      "Validation metrics: \n",
      "{'loss': 0.009152178591489792}\n",
      "Epoch 16 of 20\n",
      "Validation metrics: \n",
      "{'loss': 0.009085301092267037}\n",
      "Best model yet, saving\n",
      "Epoch 17 of 20\n",
      "Validation metrics: \n",
      "{'loss': 0.009081765246391297}\n",
      "Best model yet, saving\n",
      "Epoch 18 of 20\n",
      "Validation metrics: \n",
      "{'loss': 0.008985217809677124}\n",
      "Best model yet, saving\n",
      "Epoch 19 of 20\n",
      "Validation metrics: \n",
      "{'loss': 0.008976242029666901}\n",
      "Best model yet, saving\n",
      "Epoch 20 of 20\n",
      "Validation metrics: \n",
      "{'loss': 0.0089874491751194}\n"
     ]
    }
   ],
   "source": [
    "train_model(model, \n",
    "            train_dataset=train_dataset, \n",
    "            val_dataset=val_dataset, \n",
    "            loss_function=nn.MSELoss, \n",
    "            max_epochs = 20,\n",
    "            initial_lr=0.0001)"
   ]
  },
  {
   "cell_type": "markdown",
   "metadata": {
    "id": "pq6L58jOtZZR"
   },
   "source": [
    "# Проверка результатов.\n",
    "\n",
    "### Посмотрим, как ваш обученный автокодировщик преобразует входные примеры. В ячейке ниже приведен код для отображения произвольной пары пример-реконструкция."
   ]
  },
  {
   "cell_type": "code",
   "execution_count": 54,
   "metadata": {
    "colab": {
     "base_uri": "https://localhost:8080/"
    },
    "id": "FcSMbBF5t5AB",
    "outputId": "dc4c192e-6a65-44d2-b500-4027ac6db20c"
   },
   "outputs": [
    {
     "name": "stderr",
     "output_type": "stream",
     "text": [
      "/usr/local/lib/python3.7/dist-packages/torch/nn/functional.py:3328: UserWarning: nn.functional.upsample is deprecated. Use nn.functional.interpolate instead.\n",
      "  warnings.warn(\"nn.functional.upsample is deprecated. Use nn.functional.interpolate instead.\")\n",
      "/usr/local/lib/python3.7/dist-packages/torch/nn/functional.py:3458: UserWarning: Default upsampling behavior when mode=bilinear is changed to align_corners=False since 0.4.0. Please specify align_corners=True if the old behavior is desired. See the documentation of nn.Upsample for details.\n",
      "  \"See the documentation of nn.Upsample for details.\".format(mode)\n",
      "/usr/local/lib/python3.7/dist-packages/torch/nn/functional.py:1709: UserWarning: nn.functional.sigmoid is deprecated. Use torch.sigmoid instead.\n",
      "  warnings.warn(\"nn.functional.sigmoid is deprecated. Use torch.sigmoid instead.\")\n"
     ]
    }
   ],
   "source": [
    "index = int(np.random.randint(0, len(train_dataset), size=1))\n",
    "sample = train_dataset[index][0]\n",
    "sample_np = np.squeeze(sample.detach().cpu().numpy())\n",
    "sample_ae = model(sample.view(1, 1, 28, 28).to(device))\n",
    "sample_ae_np = np.squeeze(sample_ae.detach().cpu().numpy())"
   ]
  },
  {
   "cell_type": "code",
   "execution_count": 55,
   "metadata": {
    "colab": {
     "base_uri": "https://localhost:8080/",
     "height": 349
    },
    "id": "2WaggVpmstZ1",
    "outputId": "9ab63ee0-06e8-4734-c65a-68cb8024bf84"
   },
   "outputs": [
    {
     "data": {
      "text/plain": [
       "<matplotlib.image.AxesImage at 0x7f57d2c6bc10>"
      ]
     },
     "execution_count": 55,
     "metadata": {
      "tags": []
     },
     "output_type": "execute_result"
    },
    {
     "data": {
      "image/png": "[encoded data removed]",
      "text/plain": [
       "<Figure size 800x400 with 2 Axes>"
      ]
     },
     "metadata": {
      "tags": []
     },
     "output_type": "display_data"
    }
   ],
   "source": [
    "fig, axes = plt.subplots(nrows=1, ncols=2, figsize=(4, 2), dpi=200)\n",
    "for i, ax in enumerate(axes):\n",
    "    img = sample_np if i==0 else sample_ae_np\n",
    "    ax.imshow(img, cmap='gray')\n",
    "    ax.set_xticks([])\n",
    "    ax.set_yticks([])\n",
    "plt.tight_layout()\n",
    "fig.patch.set_facecolor('white')\n",
    "plt.imshow(img, cmap='gray')"
   ]
  },
  {
   "cell_type": "markdown",
   "metadata": {
    "id": "R6ukonHTa4hQ"
   },
   "source": [
    "## Анализ значений функции потерь"
   ]
  },
  {
   "cell_type": "markdown",
   "metadata": {
    "id": "UoTAGuqHvxxj"
   },
   "source": [
    "### Применим обученную модель автокодировщика к данным тестовой выборки. Вычислим функцию потерь на каждом объекте тестовой выборки."
   ]
  },
  {
   "cell_type": "code",
   "execution_count": 50,
   "metadata": {
    "colab": {
     "base_uri": "https://localhost:8080/"
    },
    "id": "AqWlowXHtw4b",
    "outputId": "b7b76f2b-33ae-43d0-d472-9b8cf88e09d0"
   },
   "outputs": [
    {
     "name": "stderr",
     "output_type": "stream",
     "text": [
      "  0%|          | 0/10000 [00:00<?, ?it/s]/usr/local/lib/python3.7/dist-packages/torch/nn/functional.py:3328: UserWarning: nn.functional.upsample is deprecated. Use nn.functional.interpolate instead.\n",
      "  warnings.warn(\"nn.functional.upsample is deprecated. Use nn.functional.interpolate instead.\")\n",
      "/usr/local/lib/python3.7/dist-packages/torch/nn/functional.py:3458: UserWarning: Default upsampling behavior when mode=bilinear is changed to align_corners=False since 0.4.0. Please specify align_corners=True if the old behavior is desired. See the documentation of nn.Upsample for details.\n",
      "  \"See the documentation of nn.Upsample for details.\".format(mode)\n",
      "/usr/local/lib/python3.7/dist-packages/torch/nn/functional.py:1709: UserWarning: nn.functional.sigmoid is deprecated. Use torch.sigmoid instead.\n",
      "  warnings.warn(\"nn.functional.sigmoid is deprecated. Use torch.sigmoid instead.\")\n",
      "100%|██████████| 10000/10000 [00:10<00:00, 949.27it/s]\n"
     ]
    }
   ],
   "source": [
    "model.eval()\n",
    "test_dataset = DS(mnist_test_samples, val_transforms)\n",
    "test_loader = torch.utils.data.DataLoader(test_dataset, batch_size=1, shuffle=False)\n",
    "loss_fn = nn.MSELoss()\n",
    "\n",
    "losses = []\n",
    "\n",
    "with torch.no_grad():\n",
    "    with tqdm(total=len(test_loader)) as pbar:\n",
    "        for image in test_loader:\n",
    "            curr_loss = 0.0\n",
    "            image = image.to(device)\n",
    "            with torch.no_grad():\n",
    "                image_ = model(image)\n",
    "            curr_loss = loss_fn(image_, image).item()\n",
    "            losses.append(curr_loss)\n",
    "            pbar.update(1)"
   ]
  },
  {
   "cell_type": "markdown",
   "metadata": {
    "id": "Dk5NmNjpa9-C"
   },
   "source": [
    "Построим гистограмму значений функции потерь. Как мы видим наименьшее число элементов у нас с лоссом ~1.2."
   ]
  },
  {
   "cell_type": "code",
   "execution_count": 51,
   "metadata": {
    "colab": {
     "base_uri": "https://localhost:8080/",
     "height": 265
    },
    "id": "TwAef_NBbHVV",
    "outputId": "b0453163-354c-4077-982e-0fc52740e738"
   },
   "outputs": [
    {
     "data": {
      "image/png": "[encoded data removed]",
      "text/plain": [
       "<Figure size 432x288 with 1 Axes>"
      ]
     },
     "metadata": {
      "needs_background": "light",
      "tags": []
     },
     "output_type": "display_data"
    }
   ],
   "source": [
    "plt.hist(losses)\n",
    "plt.show()"
   ]
  },
  {
   "cell_type": "markdown",
   "metadata": {
    "id": "uzbOesYSbdMT"
   },
   "source": [
    "Эмпирическим путем (крутя loss туда-сюда и выводя картинки) я выяснил, что грань между аномалиями и корректными значениями с большим лоссом 1.139 именно при данном обучении (seed не зафиксирован):"
   ]
  },
  {
   "cell_type": "code",
   "execution_count": 52,
   "metadata": {
    "id": "S9kdACc40ZPQ"
   },
   "outputs": [],
   "source": [
    "losses_ = [losses.index(i) for i in losses if i > 1.18]"
   ]
  },
  {
   "cell_type": "code",
   "execution_count": 53,
   "metadata": {
    "colab": {
     "base_uri": "https://localhost:8080/"
    },
    "id": "ErCriMNQMuvf",
    "outputId": "7b58d2e9-8d91-4aa9-eed1-6152eec63789"
   },
   "outputs": [
    {
     "data": {
      "text/plain": [
       "16"
      ]
     },
     "execution_count": 53,
     "metadata": {
      "tags": []
     },
     "output_type": "execute_result"
    }
   ],
   "source": [
    "len(losses_)"
   ]
  },
  {
   "cell_type": "markdown",
   "metadata": {
    "id": "1rXu7BbCew-Z"
   },
   "source": [
    "### Отобразим сначала объекты-аномалии, а затем, в соотвествующем порядке, их реконструкции"
   ]
  },
  {
   "cell_type": "code",
   "execution_count": 56,
   "metadata": {
    "colab": {
     "base_uri": "https://localhost:8080/",
     "height": 58
    },
    "id": "wE7yJWQjcxZj",
    "outputId": "cf1257b1-bdad-4e10-a242-b605a77ee115"
   },
   "outputs": [
    {
     "data": {
      "image/png": "[encoded data removed]",
      "text/plain": [
       "<Figure size 4800x600 with 16 Axes>"
      ]
     },
     "metadata": {
      "tags": []
     },
     "output_type": "display_data"
    }
   ],
   "source": [
    "fig, axes = plt.subplots(nrows=1, \n",
    "                         ncols=len(losses_), \n",
    "                         figsize=(len(losses_), 2), \n",
    "                         dpi=300)\n",
    "\n",
    "for i, ax in enumerate(axes):\n",
    "    sample_index = losses_[i]\n",
    "    sample = test_dataset[sample_index]\n",
    "    ax.imshow(np.squeeze(sample.cpu().numpy()), cmap='gray')\n",
    "    ax.set_xticks([])\n",
    "    ax.set_yticks([])\n",
    "plt.tight_layout()\n",
    "fig.patch.set_facecolor('white')"
   ]
  },
  {
   "cell_type": "markdown",
   "metadata": {
    "id": "18cU6vtPeJVO"
   },
   "source": [
    "Вычислите на них обученный вами автокодировщик. Отобразите рядом объекты-аномалии и их реконструкцию, вычисленную вашим автокодировщиком."
   ]
  },
  {
   "cell_type": "code",
   "execution_count": 57,
   "metadata": {
    "colab": {
     "base_uri": "https://localhost:8080/",
     "height": 180
    },
    "id": "VksQyQNU1QUl",
    "outputId": "b693fb5f-16ce-4a0f-c90a-6cb8f23bdca4"
   },
   "outputs": [
    {
     "name": "stderr",
     "output_type": "stream",
     "text": [
      "/usr/local/lib/python3.7/dist-packages/torch/nn/functional.py:3328: UserWarning: nn.functional.upsample is deprecated. Use nn.functional.interpolate instead.\n",
      "  warnings.warn(\"nn.functional.upsample is deprecated. Use nn.functional.interpolate instead.\")\n",
      "/usr/local/lib/python3.7/dist-packages/torch/nn/functional.py:3458: UserWarning: Default upsampling behavior when mode=bilinear is changed to align_corners=False since 0.4.0. Please specify align_corners=True if the old behavior is desired. See the documentation of nn.Upsample for details.\n",
      "  \"See the documentation of nn.Upsample for details.\".format(mode)\n",
      "/usr/local/lib/python3.7/dist-packages/torch/nn/functional.py:1709: UserWarning: nn.functional.sigmoid is deprecated. Use torch.sigmoid instead.\n",
      "  warnings.warn(\"nn.functional.sigmoid is deprecated. Use torch.sigmoid instead.\")\n"
     ]
    },
    {
     "data": {
      "image/png": "[encoded data removed]",
      "text/plain": [
       "<Figure size 4800x600 with 16 Axes>"
      ]
     },
     "metadata": {
      "tags": []
     },
     "output_type": "display_data"
    }
   ],
   "source": [
    "fig, axes = plt.subplots(nrows=1, \n",
    "                         ncols=len(losses_), \n",
    "                         figsize=(len(losses_), 2), \n",
    "                         dpi=300)\n",
    "\n",
    "for i, ax in enumerate(axes):\n",
    "    sample_index = losses_[i]\n",
    "    sample = test_dataset[sample_index]\n",
    "    sample_np = np.squeeze(sample.detach().cpu().numpy())\n",
    "    sample_ae = model(sample.view(1, 1, 28, 28).to(device))\n",
    "    sample_ae_np = np.squeeze(sample_ae.detach().cpu().numpy())\n",
    "    ax.imshow(sample_ae_np)\n",
    "    ax.set_xticks([])\n",
    "    ax.set_yticks([])\n",
    "plt.tight_layout()\n",
    "fig.patch.set_facecolor('white')"
   ]
  },
  {
   "cell_type": "markdown",
   "metadata": {
    "id": "FW7_CuE4zhJ8"
   },
   "source": [
    "# Создадим файл маркировки аномалий"
   ]
  },
  {
   "cell_type": "code",
   "execution_count": 100,
   "metadata": {
    "id": "dZQ4HB3l4k3B"
   },
   "outputs": [],
   "source": [
    "output = [0] * len(test_dataset)\n",
    "for index in losses_:\n",
    "    output[index] = 1"
   ]
  },
  {
   "cell_type": "code",
   "execution_count": 119,
   "metadata": {
    "colab": {
     "base_uri": "https://localhost:8080/"
    },
    "id": "fv1q0_GtOlaZ",
    "outputId": "f02e52f5-4b23-4637-a56f-3c08919cdb59"
   },
   "outputs": [
    {
     "data": {
      "text/plain": [
       "10000"
      ]
     },
     "execution_count": 119,
     "metadata": {
      "tags": []
     },
     "output_type": "execute_result"
    }
   ],
   "source": [
    "f = open('/content/output.txt', 'w')\n",
    "output = ''.join(map(str, output))\n",
    "output\n",
    "f.write(output)"
   ]
  },
  {
   "cell_type": "code",
   "execution_count": null,
   "metadata": {
    "id": "HctxrxqmOuZX"
   },
   "outputs": [],
   "source": []
  }
 ],
 "metadata": {
  "accelerator": "GPU",
  "colab": {
   "collapsed_sections": [],
   "name": "CAE.ipynb",
   "provenance": [],
   "toc_visible": true
  },
  "kernelspec": {
   "display_name": "Python 3",
   "language": "python",
   "name": "python3"
  },
  "language_info": {
   "codemirror_mode": {
    "name": "ipython",
    "version": 3
   },
   "file_extension": ".py",
   "mimetype": "text/x-python",
   "name": "python",
   "nbconvert_exporter": "python",
   "pygments_lexer": "ipython3",
   "version": "3.8.5"
  },
  "nbTranslate": {
   "displayLangs": [
    "*"
   ],
   "hotkey": "alt-t",
   "langInMainMenu": true,
   "sourceLang": "en",
   "targetLang": "fr",
   "useGoogleTranslate": true
  },
  "toc": {
   "base_numbering": 1,
   "nav_menu": {},
   "number_sections": true,
   "sideBar": true,
   "skip_h1_title": false,
   "title_cell": "Table of Contents",
   "title_sidebar": "Contents",
   "toc_cell": false,
   "toc_position": {},
   "toc_section_display": true,
   "toc_window_display": false
  },
  "varInspector": {
   "cols": {
    "lenName": 16,
    "lenType": 16,
    "lenVar": 40
   },
   "kernels_config": {
    "python": {
     "delete_cmd_postfix": "",
     "delete_cmd_prefix": "del ",
     "library": "var_list.py",
     "varRefreshCmd": "print(var_dic_list())"
    },
    "r": {
     "delete_cmd_postfix": ") ",
     "delete_cmd_prefix": "rm(",
     "library": "var_list.r",
     "varRefreshCmd": "cat(var_dic_list()) "
    }
   },
   "types_to_exclude": [
    "module",
    "function",
    "builtin_function_or_method",
    "instance",
    "_Feature"
   ],
   "window_display": false
  }
 },
 "nbformat": 4,
 "nbformat_minor": 1
}
